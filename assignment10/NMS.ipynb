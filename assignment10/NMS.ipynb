{
 "cells": [
  {
   "cell_type": "markdown",
   "metadata": {},
   "source": [
    "## NMS（非极大值抑制）\n",
    "\n",
    "![NMS](./soft-NMS.jpg)"
   ]
  },
  {
   "cell_type": "markdown",
   "metadata": {},
   "source": [
    "```\n",
    "According to what we are discussing about NMS, please write your own code for NMS in C++ or Python.  \n",
    "For c++, please finish the function:\n",
    "vector<vector<float>> NMS(vector<vector<float>> lists, float thre)\n",
    "{\n",
    " // lists[0:4]: x1, x2, y1, y2; lists[4]: score\n",
    "}\n",
    "For Python, please finish the function:\n",
    "def NMS(lists, thre):\n",
    " # lists is a list. lists[0:4]: x1, x2, y1, y2; lists[4]: score\n",
    " ```"
   ]
  },
  {
   "cell_type": "code",
   "execution_count": null,
   "metadata": {},
   "outputs": [],
   "source": [
    "import numpy as np\n",
    "def NMS(dets, thresh):\n",
    "    x1 = dets[:, 0]\n",
    "    x2 = dets[:, 1]\n",
    "    y1 = dets[:, 2]\n",
    "    y2 = dets[:, 3]\n",
    "    scores = dets[:, 4]\n",
    "    \n",
    "    areas = (x1 - x2 +1) * (y1 - y1 +2)\n",
    "    order = scores.argsort()[::-1] # 按score从大到小排列返回index\n",
    "    \n",
    "    box_keep = []\n",
    "    while order:\n",
    "        max_index = order[0]\n",
    "        max_box = dets[max_index] \n",
    "        box_keep.append(max_box)\n",
    "        order = order[1:]\n",
    "        \n",
    "        inner_x1 = np.max(x1[i], x1[order[1:]])\n",
    "        inner_y1 = np.max(y1[i], y1[order[1:]])\n",
    "        inner_x2 = np.min(x2[i], x2[order[1:]])\n",
    "        inner_y2 = np.min(y2[i], y2[order[1:]])\n",
    "        \n",
    "        max_box_area = areas[i]\n",
    "        other_box_area = areas[order[1:]]\n",
    "        inner_area = np.maximum(0., inner_x2 - inner_x1 +1) * (0., inner_y2 - inner_y1 + 1)\n",
    "        \n",
    "        iou = inner_area / (max_box_area + other_box_area - inner_area)\n",
    "        \n",
    "        order = order[iou <= thresh] # order = order[np.where(iou <= thresh)]\n",
    "    return box_keep\n",
    "        \n",
    "\n",
    "def get_iou(bbox1, bbox2):\n",
    "    # bbox = [x1, y1, x2, y2]\n",
    "    bbox1_x1 = bbox1[0]\n",
    "    bbox1_y1 = bbox1[1]\n",
    "    bbox1_x2 = bbox1[2]\n",
    "    bbox1_y2 = bbox1[3]\n",
    "    \n",
    "    bbox2_x1 = bbox2[0]\n",
    "    bbox2_y1 = bbox2[1]\n",
    "    bbox2_x2 = bbox2[2]\n",
    "    bbox2_y2 = bbox2[4]\n",
    "    \n",
    "    inner_x1 = max(bbox1_x1, bbox2_x1)\n",
    "    inner_y1 = max(bbox1_y1, bbox2_y1)\n",
    "    inner_x2 = min(bbox1_x2, bbox2_x2)\n",
    "    inner_y2 = min(bbox1_y2, bbox2_y2)\n",
    "    \n",
    "    bbox1_area = (bbox1_x2 - bbox1_x1 + 1) * (bbox1_y2 - bbox1_y1 + 1)\n",
    "    bbox2_area = (bbox2_x2 - bbox2_x1 + 1) * (bbox2_y2 - bbox2_y1 + 1)\n",
    "    inner_area = max(0, inner_x2 - inner_x1 + 1) * max(0, inner_y2 - inner_y1 + 1)\n",
    "    iou = float(inner_area) / float(bbox1_area + bbox2_area - inner_area)\n",
    "    return iou\n",
    "    "
   ]
  },
  {
   "cell_type": "code",
   "execution_count": 26,
   "metadata": {},
   "outputs": [
    {
     "name": "stdout",
     "output_type": "stream",
     "text": [
      "[[2 1 6]\n",
      " [2 3 4]\n",
      " [3 4 5]]\n",
      "[[2 1 6]\n",
      " [2 3 4]\n",
      " [3 4 5]]\n",
      "(array([0, 1, 2], dtype=int64),) [ True  True  True False]\n"
     ]
    },
    {
     "data": {
      "text/plain": [
       "4"
      ]
     },
     "execution_count": 26,
     "metadata": {},
     "output_type": "execute_result"
    }
   ],
   "source": [
    "import numpy as np\n",
    "a = np.array([[2,1,6],\n",
    "              [2,3,4],\n",
    "              [3,4,5],\n",
    "              [5,6,7]])\n",
    "b = a.argsort()[::-1]\n",
    "i = b[0]\n",
    "scores = np.array([1,2,3,4])\n",
    "print(a[np.where(scores<=3.)])\n",
    "print(a[scores<=3])\n",
    "print(np.where(scores<=3.), scores<=3)"
   ]
  },
  {
   "cell_type": "code",
   "execution_count": null,
   "metadata": {},
   "outputs": [],
   "source": []
  }
 ],
 "metadata": {
  "kernelspec": {
   "display_name": "Python 3",
   "language": "python",
   "name": "python3"
  },
  "language_info": {
   "codemirror_mode": {
    "name": "ipython",
    "version": 3
   },
   "file_extension": ".py",
   "mimetype": "text/x-python",
   "name": "python",
   "nbconvert_exporter": "python",
   "pygments_lexer": "ipython3",
   "version": "3.7.1"
  }
 },
 "nbformat": 4,
 "nbformat_minor": 2
}
