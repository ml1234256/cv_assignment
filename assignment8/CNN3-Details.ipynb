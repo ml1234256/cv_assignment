{
 "cells": [
  {
   "cell_type": "markdown",
   "metadata": {},
   "source": [
    "### 1. Initialization Methods\n",
    "Gaussian/Xavier/Kaiming\n",
    "### 2. Image Preprocessing\n",
    "Traditional Ways: PCA\n",
    "### 3. Optimization \n",
    "SGD+Momentum/Nesterov\n",
    "### 4. Evaluation \n",
    "Recall/Precision/Accuracy\n",
    "ROC/PC\n",
    "### 5. Learning Strategy\n",
    "\n",
    "可视化： https://blog.csdn.net/dcrmg/article/details/81255498\n"
   ]
  },
  {
   "cell_type": "markdown",
   "metadata": {},
   "source": [
    "### 2.Image Preprocessing\n",
    "#### 2.3 PCA(Principal Comments analysis)\n",
    "参考：https://zhuanlan.zhihu.com/p/21580949   \n",
    "PCA是个降维的过程，将data的feature投影成新的feature，而新的feature是原data的feature的线性组合  \n",
    " 本质：降维，找到相互正交的投影方向（axes正交基)，使得将data投影其上时，有最大的方差（Why?方差越大，信息越大） <br>\n",
    "操作：找到一组正交基，使得将data投影到第一个轴的时候，有最大的方差,这个轴为主轴；将data投影到第二个轴时，有第二大的方差，。。。且每个轴之内线性无关  \n",
    "优化目标：将一组N维向量降为K维（K大于0，小于N），其目标是选择K个单位（模为1）正交基，使得原始数据变换到这组基上后，各字段两两间协方差为0，而字段的方差则尽可能大（在正交的约束下，取最大的K个方差）。\n",
    "#### 2.3.1 PCA算法步骤 \n",
    "设有m条n维向量数据  \n",
    "1) 将原始数据按列组成m行n列矩阵X  \n",
    "2) 将X的每一列（代表一个特征）进行零均值化  \n",
    "3) 求特征的协方差矩阵(Covariance Matrix): $ C = \\frac{1}{m}X^TX $，size(n, n)  \n",
    "4) 求协方差矩阵的特征值及对应的特征向量(SVD分解)  \n",
    "5) 将特征向量按对应特征值大小从上到下按行排列成矩阵，取前k行组成矩阵P  \n",
    "6) Y=XP即为降维到k维后的数据\n",
    "\n",
    "```\n",
    "X = np.random.randn(1000, 500) # create standard normal distribution of size(1000， 500)\n",
    "X -= np.mean(X, axis=0) # zero mean for cols\n",
    "conv = np.dot(X.T, X)/(X.shape[0] - 1) # compute covariance matrix, why divide (n-1)？：https://www.matongxue.com/madocs/607/\n",
    "U, S, V = np.linalg.svd(conv) # SVD\n",
    "# Xrot = np.dot(X, U)\n",
    "Xrot_reduced = np.dot(X, U[:, :100])\n",
    "```\n",
    "Q：  \n",
    "1.怎样找方差最大的轴？"
   ]
  },
  {
   "cell_type": "code",
   "execution_count": null,
   "metadata": {},
   "outputs": [],
   "source": []
  }
 ],
 "metadata": {
  "kernelspec": {
   "display_name": "Python 3",
   "language": "python",
   "name": "python3"
  },
  "language_info": {
   "codemirror_mode": {
    "name": "ipython",
    "version": 3
   },
   "file_extension": ".py",
   "mimetype": "text/x-python",
   "name": "python",
   "nbconvert_exporter": "python",
   "pygments_lexer": "ipython3",
   "version": "3.7.1"
  }
 },
 "nbformat": 4,
 "nbformat_minor": 2
}
